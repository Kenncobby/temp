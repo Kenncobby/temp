{
 "cells": [
  {
   "cell_type": "markdown",
   "id": "e6ad2ed2",
   "metadata": {},
   "source": [
    "# My Jupyter Notebook on IBM Watson Studio"
   ]
  },
  {
   "cell_type": "markdown",
   "id": "54f9254d",
   "metadata": {},
   "source": [
    "**Bhavya Bansal** <br>\n",
    "Student"
   ]
  },
  {
   "cell_type": "markdown",
   "id": "6f3e997a",
   "metadata": {},
   "source": [
    "I am intrested in datascience cause its my passion i enjoy learning in this field and i like to become advance with Technology as data science is the future."
   ]
  },
  {
   "cell_type": "markdown",
   "id": "c576ef52",
   "metadata": {},
   "source": [
    "### It will Simply show welcome message."
   ]
  },
  {
   "cell_type": "code",
   "execution_count": 6,
   "id": "0de0dda9",
   "metadata": {},
   "outputs": [
    {
     "name": "stdout",
     "output_type": "stream",
     "text": [
      "Welcome bhavya hope you have an great day\n"
     ]
    }
   ],
   "source": [
    "def Welcome(s):\n",
    "    print(\"Welcome {} hope you have an great day\".format(s))\n",
    "Welcome(\"bhavya\")"
   ]
  },
  {
   "cell_type": "markdown",
   "id": "8127d31f",
   "metadata": {},
   "source": [
    "- one <br>\n",
    "2 two <br>\n",
    "3 **three**\n",
    "<a href=\"http://earthdatascience.org\" target=\"_blank\">this link</a>."
   ]
  }
 ],
 "metadata": {
  "kernelspec": {
   "display_name": "Python 3",
   "language": "python",
   "name": "python3"
  },
  "language_info": {
   "codemirror_mode": {
    "name": "ipython",
    "version": 3
   },
   "file_extension": ".py",
   "mimetype": "text/x-python",
   "name": "python",
   "nbconvert_exporter": "python",
   "pygments_lexer": "ipython3",
   "version": "3.8.8"
  }
 },
 "nbformat": 4,
 "nbformat_minor": 5
}
